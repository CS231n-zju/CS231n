{
 "cells": [
  {
   "cell_type": "markdown",
   "metadata": {},
   "source": [
    "# Softmax exercise\n",
    "\n",
    "*Complete and hand in this completed worksheet (including its outputs and any supporting code outside of the worksheet) with your assignment submission. For more details see the [assignments page](http://vision.stanford.edu/teaching/cs231n/assignments.html) on the course website.*\n",
    "\n",
    "This exercise is analogous to the SVM exercise. You will:\n",
    "\n",
    "- implement a fully-vectorized **loss function** for the Softmax classifier\n",
    "- implement the fully-vectorized expression for its **analytic gradient**\n",
    "- **check your implementation** with numerical gradient\n",
    "- use a validation set to **tune the learning rate and regularization** strength\n",
    "- **optimize** the loss function with **SGD**\n",
    "- **visualize** the final learned weights\n"
   ]
  },
  {
   "cell_type": "code",
   "execution_count": 22,
   "metadata": {},
   "outputs": [
    {
     "name": "stdout",
     "output_type": "stream",
     "text": [
      "The autoreload extension is already loaded. To reload it, use:\n",
      "  %reload_ext autoreload\n"
     ]
    }
   ],
   "source": [
    "import random\n",
    "import numpy as np\n",
    "from cs231n.data_utils import load_CIFAR10\n",
    "import matplotlib.pyplot as plt\n",
    "%matplotlib inline\n",
    "plt.rcParams['figure.figsize'] = (10.0, 8.0) # set default size of plots\n",
    "plt.rcParams['image.interpolation'] = 'nearest'\n",
    "plt.rcParams['image.cmap'] = 'gray'\n",
    "\n",
    "# for auto-reloading extenrnal modules\n",
    "# see http://stackoverflow.com/questions/1907993/autoreload-of-modules-in-ipython\n",
    "%load_ext autoreload\n",
    "%autoreload 2"
   ]
  },
  {
   "cell_type": "code",
   "execution_count": 23,
   "metadata": {},
   "outputs": [
    {
     "name": "stdout",
     "output_type": "stream",
     "text": [
      "Train data shape:  (49000L, 3073L)\n",
      "Train labels shape:  (49000L,)\n",
      "Validation data shape:  (1000L, 3073L)\n",
      "Validation labels shape:  (1000L,)\n",
      "Test data shape:  (1000L, 3073L)\n",
      "Test labels shape:  (1000L,)\n",
      "dev data shape:  (500L, 3073L)\n",
      "dev labels shape:  (500L,)\n"
     ]
    }
   ],
   "source": [
    "def get_CIFAR10_data(num_training=49000, num_validation=1000, num_test=1000, num_dev=500):\n",
    "  \"\"\"\n",
    "  Load the CIFAR-10 dataset from disk and perform preprocessing to prepare\n",
    "  it for the linear classifier. These are the same steps as we used for the\n",
    "  SVM, but condensed to a single function.  \n",
    "  \"\"\"\n",
    "  # Load the raw CIFAR-10 data\n",
    "  cifar10_dir = 'cs231n/datasets/cifar-10-batches-py'\n",
    "  X_train, y_train, X_test, y_test = load_CIFAR10(cifar10_dir)\n",
    "  \n",
    "  # subsample the data\n",
    "  mask = range(num_training, num_training + num_validation)\n",
    "  X_val = X_train[mask]\n",
    "  y_val = y_train[mask]\n",
    "  mask = range(num_training)\n",
    "  X_train = X_train[mask]\n",
    "  y_train = y_train[mask]\n",
    "  mask = range(num_test)\n",
    "  X_test = X_test[mask]\n",
    "  y_test = y_test[mask]\n",
    "  mask = np.random.choice(num_training, num_dev, replace=False)\n",
    "  X_dev = X_train[mask]\n",
    "  y_dev = y_train[mask]\n",
    "  \n",
    "  # Preprocessing: reshape the image data into rows\n",
    "  X_train = np.reshape(X_train, (X_train.shape[0], -1))\n",
    "  X_val = np.reshape(X_val, (X_val.shape[0], -1))\n",
    "  X_test = np.reshape(X_test, (X_test.shape[0], -1))\n",
    "  X_dev = np.reshape(X_dev, (X_dev.shape[0], -1))\n",
    "  \n",
    "  # Normalize the data: subtract the mean image\n",
    "  mean_image = np.mean(X_train, axis = 0)\n",
    "  X_train -= mean_image\n",
    "  X_val -= mean_image\n",
    "  X_test -= mean_image\n",
    "  X_dev -= mean_image\n",
    "  \n",
    "  # add bias dimension and transform into columns\n",
    "  X_train = np.hstack([X_train, np.ones((X_train.shape[0], 1))])\n",
    "  X_val = np.hstack([X_val, np.ones((X_val.shape[0], 1))])\n",
    "  X_test = np.hstack([X_test, np.ones((X_test.shape[0], 1))])\n",
    "  X_dev = np.hstack([X_dev, np.ones((X_dev.shape[0], 1))])\n",
    "  \n",
    "  return X_train, y_train, X_val, y_val, X_test, y_test, X_dev, y_dev\n",
    "\n",
    "\n",
    "# Invoke the above function to get our data.\n",
    "X_train, y_train, X_val, y_val, X_test, y_test, X_dev, y_dev = get_CIFAR10_data()\n",
    "print 'Train data shape: ', X_train.shape\n",
    "print 'Train labels shape: ', y_train.shape\n",
    "print 'Validation data shape: ', X_val.shape\n",
    "print 'Validation labels shape: ', y_val.shape\n",
    "print 'Test data shape: ', X_test.shape\n",
    "print 'Test labels shape: ', y_test.shape\n",
    "print 'dev data shape: ', X_dev.shape\n",
    "print 'dev labels shape: ', y_dev.shape"
   ]
  },
  {
   "cell_type": "markdown",
   "metadata": {},
   "source": [
    "## Softmax Classifier\n",
    "\n",
    "Your code for this section will all be written inside **cs231n/classifiers/softmax.py**. \n"
   ]
  },
  {
   "cell_type": "code",
   "execution_count": 24,
   "metadata": {},
   "outputs": [
    {
     "name": "stdout",
     "output_type": "stream",
     "text": [
      "loss: 2.362959\n",
      "sanity check: 2.302585\n"
     ]
    }
   ],
   "source": [
    "# First implement the naive softmax loss function with nested loops.\n",
    "# Open the file cs231n/classifiers/softmax.py and implement the\n",
    "# softmax_loss_naive function.\n",
    "\n",
    "from cs231n.classifiers.softmax import softmax_loss_naive\n",
    "import time\n",
    "\n",
    "# Generate a random softmax weight matrix and use it to compute the loss.\n",
    "W = np.random.randn(3073, 10) * 0.0001\n",
    "loss, grad = softmax_loss_naive(W, X_dev, y_dev, 0.0)\n",
    "\n",
    "# As a rough sanity check, our loss should be something close to -log(0.1).\n",
    "print 'loss: %f' % loss\n",
    "print 'sanity check: %f' % (-np.log(0.1))"
   ]
  },
  {
   "cell_type": "markdown",
   "metadata": {},
   "source": [
    "## Inline Question 1:\n",
    "Why do we expect our loss to be close to -log(0.1)? Explain briefly.**\n",
    "\n",
    "**Your answer:** *Fill this in*\n"
   ]
  },
  {
   "cell_type": "code",
   "execution_count": 20,
   "metadata": {},
   "outputs": [
    {
     "name": "stdout",
     "output_type": "stream",
     "text": [
      "numerical: -1.897849 analytic: -1.897849, relative error: 4.020331e-08\n",
      "numerical: -1.432772 analytic: -1.432772, relative error: 7.330247e-08\n",
      "numerical: 2.183652 analytic: 2.183652, relative error: 3.033459e-08\n",
      "numerical: 0.184140 analytic: 0.184140, relative error: 2.472409e-07\n",
      "numerical: 0.705535 analytic: 0.705535, relative error: 2.203370e-09\n",
      "numerical: 2.044099 analytic: 2.044099, relative error: 2.562781e-09\n",
      "numerical: -0.871570 analytic: -0.871570, relative error: 9.916558e-08\n",
      "numerical: 1.459467 analytic: 1.459467, relative error: 2.672198e-08\n",
      "numerical: -0.231156 analytic: -0.231156, relative error: 8.534688e-08\n",
      "numerical: 2.018400 analytic: 2.018400, relative error: 5.017156e-10\n",
      "numerical: 0.569284 analytic: 0.569284, relative error: 1.610262e-08\n",
      "numerical: -1.637232 analytic: -1.637232, relative error: 1.267411e-08\n",
      "numerical: -2.713064 analytic: -2.713064, relative error: 2.162067e-08\n",
      "numerical: 2.115734 analytic: 2.115734, relative error: 4.803874e-08\n",
      "numerical: 1.193200 analytic: 1.193200, relative error: 2.268249e-08\n",
      "numerical: -1.848973 analytic: -1.848973, relative error: 2.686014e-08\n",
      "numerical: 0.256734 analytic: 0.256734, relative error: 3.575176e-09\n",
      "numerical: -0.702476 analytic: -0.702476, relative error: 2.789633e-08\n",
      "numerical: -1.839712 analytic: -1.839712, relative error: 2.836997e-08\n",
      "numerical: -4.961189 analytic: -4.961189, relative error: 1.808133e-08\n"
     ]
    }
   ],
   "source": [
    "# Complete the implementation of softmax_loss_naive and implement a (naive)\n",
    "# version of the gradient that uses nested loops.\n",
    "loss, grad = softmax_loss_naive(W, X_dev, y_dev, 0.0)\n",
    "\n",
    "# As we did for the SVM, use numeric gradient checking as a debugging tool.\n",
    "# The numeric gradient should be close to the analytic gradient.\n",
    "from cs231n.gradient_check import grad_check_sparse\n",
    "f = lambda w: softmax_loss_naive(w, X_dev, y_dev, 0.0)[0]\n",
    "grad_numerical = grad_check_sparse(f, W, grad, 10)\n",
    "\n",
    "# similar to SVM case, do another gradient check with regularization\n",
    "loss, grad = softmax_loss_naive(W, X_dev, y_dev, 1e2)\n",
    "f = lambda w: softmax_loss_naive(w, X_dev, y_dev, 1e2)[0]\n",
    "grad_numerical = grad_check_sparse(f, W, grad, 10)"
   ]
  },
  {
   "cell_type": "code",
   "execution_count": 21,
   "metadata": {},
   "outputs": [
    {
     "name": "stdout",
     "output_type": "stream",
     "text": [
      "naive loss: 2.422048e+00 computed in 0.415000s\n",
      "vectorized loss: 2.415317e+00 computed in 0.016000s\n",
      "Loss difference: 0.006731\n",
      "Gradient difference: 0.000000\n"
     ]
    }
   ],
   "source": [
    "# Now that we have a naive implementation of the softmax loss function and its gradient,\n",
    "# implement a vectorized version in softmax_loss_vectorized.\n",
    "# The two versions should compute the same results, but the vectorized version should be\n",
    "# much faster.\n",
    "tic = time.time()\n",
    "loss_naive, grad_naive = softmax_loss_naive(W, X_dev, y_dev, 0.00001)\n",
    "toc = time.time()\n",
    "print 'naive loss: %e computed in %fs' % (loss_naive, toc - tic)\n",
    "\n",
    "from cs231n.classifiers.softmax import softmax_loss_vectorized\n",
    "tic = time.time()\n",
    "loss_vectorized, grad_vectorized = softmax_loss_vectorized(W, X_dev, y_dev, 0.00001)\n",
    "toc = time.time()\n",
    "print 'vectorized loss: %e computed in %fs' % (loss_vectorized, toc - tic)\n",
    "\n",
    "# As we did for the SVM, we use the Frobenius norm to compare the two versions\n",
    "# of the gradient.\n",
    "grad_difference = np.linalg.norm(grad_naive - grad_vectorized, ord='fro')\n",
    "print 'Loss difference: %f' % np.abs(loss_naive - loss_vectorized)\n",
    "print 'Gradient difference: %f' % grad_difference"
   ]
  },
  {
   "cell_type": "code",
   "execution_count": 16,
   "metadata": {},
   "outputs": [
    {
     "name": "stdout",
     "output_type": "stream",
     "text": [
      "iteration 0 / 1500: loss 772.670175\n",
      "iteration 100 / 1500: loss 283.094755\n",
      "iteration 200 / 1500: loss 104.963250\n",
      "iteration 300 / 1500: loss 39.973666\n",
      "iteration 400 / 1500: loss 15.541266\n",
      "iteration 500 / 1500: loss 7.061669\n",
      "iteration 600 / 1500: loss 3.627640\n",
      "iteration 700 / 1500: loss 2.655576\n",
      "iteration 800 / 1500: loss 2.197300\n",
      "iteration 900 / 1500: loss 1.988651\n",
      "iteration 1000 / 1500: loss 1.968450\n",
      "iteration 1100 / 1500: loss 2.079430\n",
      "iteration 1200 / 1500: loss 1.823107\n",
      "iteration 1300 / 1500: loss 1.869350\n",
      "iteration 1400 / 1500: loss 1.970920\n",
      "iteration 0 / 1500: loss 15416.983090\n",
      "iteration 100 / 1500: loss 2.292679\n",
      "iteration 200 / 1500: loss 2.179710\n",
      "iteration 300 / 1500: loss 2.245464\n",
      "iteration 400 / 1500: loss 2.251361\n",
      "iteration 500 / 1500: loss 2.249059\n",
      "iteration 600 / 1500: loss 2.286229\n",
      "iteration 700 / 1500: loss 2.250110\n",
      "iteration 800 / 1500: loss 2.272604\n",
      "iteration 900 / 1500: loss 2.270490\n",
      "iteration 1000 / 1500: loss 2.235275\n",
      "iteration 1100 / 1500: loss 2.243010\n",
      "iteration 1200 / 1500: loss 2.204111\n",
      "iteration 1300 / 1500: loss 2.261790\n",
      "iteration 1400 / 1500: loss 2.262768\n",
      "iteration 0 / 1500: loss 782.594642\n",
      "iteration 100 / 1500: loss 6.919573\n",
      "iteration 200 / 1500: loss 2.032789\n",
      "iteration 300 / 1500: loss 1.861245\n",
      "iteration 400 / 1500: loss 1.828906\n",
      "iteration 500 / 1500: loss 1.920856\n",
      "iteration 600 / 1500: loss 2.017526\n",
      "iteration 700 / 1500: loss 1.889342\n",
      "iteration 800 / 1500: loss 2.059462\n",
      "iteration 900 / 1500: loss 1.920715\n",
      "iteration 1000 / 1500: loss 2.262099\n",
      "iteration 1100 / 1500: loss 1.945418\n",
      "iteration 1200 / 1500: loss 2.051162\n",
      "iteration 1300 / 1500: loss 1.986632\n",
      "iteration 1400 / 1500: loss 1.821286\n",
      "iteration 0 / 1500: loss 15424.893876\n",
      "iteration 100 / 1500: loss 2.300680\n",
      "iteration 200 / 1500: loss 2.309503\n",
      "iteration 300 / 1500: loss 2.265683\n",
      "iteration 400 / 1500: loss 2.292705\n",
      "iteration 500 / 1500: loss 2.301974\n",
      "iteration 600 / 1500: loss 2.226422\n",
      "iteration 700 / 1500: loss 2.262456\n",
      "iteration 800 / 1500: loss 2.247258\n",
      "iteration 900 / 1500: loss 2.315646\n",
      "iteration 1000 / 1500: loss 2.266445\n",
      "iteration 1100 / 1500: loss 2.304771\n",
      "iteration 1200 / 1500: loss 2.222243\n",
      "iteration 1300 / 1500: loss 2.195165\n",
      "iteration 1400 / 1500: loss 2.227227\n",
      "best validation accuracy achieved during cross-validation: 0.311000\n"
     ]
    }
   ],
   "source": [
    "# Use the validation set to tune hyperparameters (regularization strength and\n",
    "# learning rate). You should experiment with different ranges for the learning\n",
    "# rates and regularization strengths; if you are careful you should be able to\n",
    "# get a classification accuracy of over 0.35 on the validation set.\n",
    "from cs231n.classifiers import Softmax\n",
    "results = {}\n",
    "best_val = -1\n",
    "best_softmax = None\n",
    "learning_rates = [1e-7, 5e-7]\n",
    "regularization_strengths = [5e4, 1e6]\n",
    "\n",
    "################################################################################\n",
    "# TODO:                                                                        #\n",
    "# Use the validation set to set the learning rate and regularization strength. #\n",
    "# This should be identical to the validation that you did for the SVM; save    #\n",
    "# the best trained softmax classifer in best_softmax.                          #\n",
    "################################################################################\n",
    "for lr in learning_rates:\n",
    "    for reg in regularization_strengths:\n",
    "        sft=Softmax()\n",
    "        sft.train(X_dev,y_dev,learning_rate=lr,reg=reg,num_iters=1500,verbose=True)\n",
    "        y_dev_pred=sft.predict(X_dev)\n",
    "        y_val_pred=sft.predict(X_val)\n",
    "        \n",
    "        dev_acc=np.mean(y_dev_pred==y_dev)\n",
    "        val_acc=np.mean(y_val==y_val_pred)\n",
    "        \n",
    "        if(val_acc>best_val):\n",
    "            best_val=val_acc\n",
    "            best_softmax=sft\n",
    "################################################################################\n",
    "#                              END OF YOUR CODE                                #\n",
    "################################################################################\n",
    "    \n",
    "# Print out results.\n",
    "for lr, reg in sorted(results):\n",
    "    train_accuracy, val_accuracy = results[(lr, reg)]\n",
    "    print 'lr %e reg %e train accuracy: %f val accuracy: %f' % (\n",
    "                lr, reg, train_accuracy, val_accuracy)\n",
    "    \n",
    "print 'best validation accuracy achieved during cross-validation: %f' % best_val"
   ]
  },
  {
   "cell_type": "code",
   "execution_count": 18,
   "metadata": {},
   "outputs": [
    {
     "name": "stdout",
     "output_type": "stream",
     "text": [
      "softmax on raw pixels final test set accuracy: 0.307000\n"
     ]
    }
   ],
   "source": [
    "# evaluate on test set\n",
    "# Evaluate the best softmax on test set\n",
    "y_test_pred = best_softmax.predict(X_test)\n",
    "test_accuracy = np.mean(y_test == y_test_pred)\n",
    "print 'softmax on raw pixels final test set accuracy: %f' % (test_accuracy, )"
   ]
  },
  {
   "cell_type": "code",
   "execution_count": 14,
   "metadata": {},
   "outputs": [
    {
     "data": {
      "image/png": "[encoded data removed]",
      "text/plain": [
       "<matplotlib.figure.Figure at 0x7fc9da3df1d0>"
      ]
     },
     "metadata": {},
     "output_type": "display_data"
    }
   ],
   "source": [
    "# Visualize the learned weights for each class\n",
    "w = best_softmax.W[:-1,:] # strip out the bias\n",
    "w = w.reshape(32, 32, 3, 10)\n",
    "\n",
    "w_min, w_max = np.min(w), np.max(w)\n",
    "\n",
    "classes = ['plane', 'car', 'bird', 'cat', 'deer', 'dog', 'frog', 'horse', 'ship', 'truck']\n",
    "for i in xrange(10):\n",
    "  plt.subplot(2, 5, i + 1)\n",
    "  \n",
    "  # Rescale the weights to be between 0 and 255\n",
    "  wimg = 255.0 * (w[:, :, :, i].squeeze() - w_min) / (w_max - w_min)\n",
    "  plt.imshow(wimg.astype('uint8'))\n",
    "  plt.axis('off')\n",
    "  plt.title(classes[i])"
   ]
  },
  {
   "cell_type": "code",
   "execution_count": null,
   "metadata": {
    "collapsed": true
   },
   "outputs": [],
   "source": []
  }
 ],
 "metadata": {
  "kernelspec": {
   "display_name": "Python 2",
   "language": "python",
   "name": "python2"
  },
  "language_info": {
   "codemirror_mode": {
    "name": "ipython",
    "version": 2
   },
   "file_extension": ".py",
   "mimetype": "text/x-python",
   "name": "python",
   "nbconvert_exporter": "python",
   "pygments_lexer": "ipython2",
   "version": "2.7.13"
  }
 },
 "nbformat": 4,
 "nbformat_minor": 1
}
