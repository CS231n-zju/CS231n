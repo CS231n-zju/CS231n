{
 "cells": [
  {
   "cell_type": "code",
   "execution_count": 1,
   "metadata": {
    "collapsed": true
   },
   "outputs": [],
   "source": [
    "import numpy as np\n",
    "import os\n",
    "from scipy.misc import imread\n",
    "import pickle\n",
    "def load_CIFAR_batch(filename):\n",
    "    \n",
    "    with open(filename,'rb') as f:\n",
    "        datadict= pickle.load(f,encoding='bytes')\n",
    "        X=datadict[b'data']\n",
    "        Y=datadict[b'labels']\n",
    "        X=X.reshape(10000,3,32,32).transpose(0,2,3,1).astype(\"float\")\n",
    "        Y=np.array(Y)\n",
    "        return X,Y\n",
    "    \n",
    "def load_CIFAR10(root):\n",
    "    \n",
    "    xs=[]\n",
    "    ys=[]\n",
    "    for b in range(1,6):\n",
    "        f=os.path.join(root,'data_batch_%d'%(b,))\n",
    "        X,Y=load_CIFAR_batch(f)\n",
    "        xs.append(X)\n",
    "        ys.append(Y)\n",
    "    Xtr=np.concatenate(xs)\n",
    "    Ytr=np.concatenate(ys)\n",
    "    del X,Y\n",
    "    Xte,Yte=load_CIFAR_batch(os.path.join(root,'test_batch'))\n",
    "    return Xtr,Ytr,Xte,Yte\n",
    "\n",
    "def load_tiny_imagenet(path, dtype=np.float32):\n",
    "    with open(os.path.join(path, 'wnids.txt'), 'r') as f:\n",
    "        wnids = [x.strip() for x in f]\n",
    "\n",
    "    wnid_to_label = {wnid: i for i, wnid in enumerate(wnids)}\n",
    "\n",
    "    with open(os.path.join(path, 'words.txt'), 'r') as f:\n",
    "        wnid_to_words = dict(line.split('\\t') for line in f)\n",
    "        for wnid, words in wnid_to_words.iteritems():\n",
    "            wnid_to_words[wnid] = [w.strip() for w in words.split(',')]\n",
    "    class_names = [wnid_to_words[wnid] for wnid in wnids]\n",
    "    X_train = []\n",
    "    y_train = []\n",
    "    for i, wnid in enumerate(wnids):\n",
    "        if (i + 1) % 20 == 0:\n",
    "            print ('loading training data for synset %d / %d' % (i + 1, len(wnids)))\n",
    "        # To figure out the filenames we need to open the boxes file\n",
    "        boxes_file = os.path.join(path, 'train', wnid, '%s_boxes.txt' % wnid)\n",
    "        with open(boxes_file, 'r') as f:\n",
    "            filenames = [x.split('\\t')[0] for x in f]\n",
    "        num_images = len(filenames)\n",
    "\n",
    "        X_train_block = np.zeros((num_images, 3, 64, 64), dtype=dtype)\n",
    "        y_train_block = wnid_to_label[wnid] * np.ones(num_images, dtype=np.int64)\n",
    "        for j, img_file in enumerate(filenames):\n",
    "            img_file = os.path.join(path, 'train', wnid, 'images', img_file)\n",
    "            img = imread(img_file)\n",
    "            if img.ndim == 2:\n",
    "                ## grayscale file\n",
    "                img.shape = (64, 64, 1)\n",
    "            X_train_block[j] = img.transpose(2, 0, 1)\n",
    "        X_train.append(X_train_block)\n",
    "        y_train.append(y_train_block)\n",
    "\n",
    "    # We need to concatenate all training data\n",
    "    X_train = np.concatenate(X_train, axis=0)\n",
    "    y_train = np.concatenate(y_train, axis=0)\n",
    "\n",
    "    # Next load validation data\n",
    "    with open(os.path.join(path, 'val', 'val_annotations.txt'), 'r') as f:\n",
    "        img_files = []\n",
    "        val_wnids = []\n",
    "        for line in f:\n",
    "            img_file, wnid = line.split('\\t')[:2]\n",
    "            img_files.append(img_file)\n",
    "            val_wnids.append(wnid)\n",
    "        num_val = len(img_files)\n",
    "        y_val = np.array([wnid_to_label[wnid] for wnid in val_wnids])\n",
    "        X_val = np.zeros((num_val, 3, 64, 64), dtype=dtype)\n",
    "        for i, img_file in enumerate(img_files):\n",
    "            img_file = os.path.join(path, 'val', 'images', img_file)\n",
    "            img = imread(img_file)\n",
    "            if img.ndim == 2:\n",
    "                img.shape = (64, 64, 1)\n",
    "            X_val[i] = img.transpose(2, 0, 1)\n",
    "\n",
    "    # Next load test images\n",
    "    # Students won't have test labels, so we need to iterate over files in the\n",
    "    # images directory.\n",
    "    img_files = os.listdir(os.path.join(path, 'test', 'images'))\n",
    "    X_test = np.zeros((len(img_files), 3, 64, 64), dtype=dtype)\n",
    "    for i, img_file in enumerate(img_files):\n",
    "        img_file = os.path.join(path, 'test', 'images', img_file)\n",
    "        img = imread(img_file)\n",
    "        if img.ndim == 2:\n",
    "            img.shape = (64, 64, 1)\n",
    "        X_test[i] = img.transpose(2, 0, 1)\n",
    "\n",
    "    y_test = None\n",
    "    y_test_file = os.path.join(path, 'test', 'test_annotations.txt')\n",
    "    if os.path.isfile(y_test_file):\n",
    "        with open(y_test_file, 'r') as f:\n",
    "            img_file_to_wnid = {}\n",
    "            for line in f:\n",
    "                line = line.split('\\t')\n",
    "                img_file_to_wnid[line[0]] = line[1]\n",
    "        y_test = [wnid_to_label[img_file_to_wnid[img_file]] for img_file in img_files]\n",
    "        y_test = np.array(y_test)\n",
    "\n",
    "    return class_names, X_train, y_train, X_val, y_val, X_test, y_test\n",
    "\n",
    "\n",
    "def load_models(models_dir):\n",
    "    models = {}\n",
    "    for model_file in os.listdir(models_dir):\n",
    "        with open(os.path.join(models_dir, model_file), 'rb') as f:\n",
    "            try:\n",
    "                models[model_file] = pickle.load(f)['model']\n",
    "            except pickle.UnpicklingError:\n",
    "                continue\n",
    "    return models\n",
    "\n"
   ]
  },
  {
   "cell_type": "code",
   "execution_count": 2,
   "metadata": {},
   "outputs": [],
   "source": [
    "import random\n",
    "import matplotlib.pyplot as plt\n",
    "\n",
    "%matplotlib inline\n",
    "plt.rcParams['figure.figsize']=(10.0,8.0)\n",
    "plt.rcParams['image.interpolation']='nearest'\n",
    "plt.rcParams['image.cmap']='gray'\n",
    "\n"
   ]
  },
  {
   "cell_type": "code",
   "execution_count": 3,
   "metadata": {},
   "outputs": [
    {
     "name": "stdout",
     "output_type": "stream",
     "text": [
      "Trainning data shape (50000, 32, 32, 3)\nTrainning label shape (50000,)\nTest data shape (10000, 32, 32, 3)\nTest label shape (10000,)\n"
     ]
    }
   ],
   "source": [
    "#load raw CIFAR-10 data\n",
    "from IPython.extensions import autoreload\n",
    "\n",
    "cifar10_dir='I:\\Workplace\\PycharmProjects\\cs231n\\Assignment1\\cifar-10-batches-py'\n",
    "X_train,y_train,X_test,y_test=load_CIFAR10(cifar10_dir)\n",
    "\n",
    "print('Trainning data shape',X_train.shape)\n",
    "print('Trainning label shape',y_train.shape)\n",
    "print('Test data shape',X_test.shape)\n",
    "print('Test label shape',y_test.shape)"
   ]
  },
  {
   "cell_type": "code",
   "execution_count": 4,
   "metadata": {},
   "outputs": [],
   "source": [
    " #show tiny images\n",
    "classes=['plane', 'car', 'bird', 'cat', 'deer', 'dog', 'frog', 'horse', 'ship', 'truck']\n",
    "num_classes=len(classes)\n",
    "samples_per_class=7\n",
    "for y,cls in enumerate(classes):\n",
    "    idxs=np.flatnonzero(y_train==y)\n",
    "    idxs=np.random.choice(idxs,samples_per_class,replace=False)\n",
    "    for i,idx in enumerate(idxs):\n",
    "        plt_idx=i*num_classes+y+1\n",
    "        plt.subplot(samples_per_class,num_classes,plt_idx)\n",
    "        plt.imshow(X_train[idx].astype('uint8'))\n",
    "        plt.axis('off')\n",
    "        if i==0:\n",
    "            plt.title(cls)\n",
    "plt.show()\n"
   ]
  },
  {
   "cell_type": "code",
   "execution_count": 7,
   "metadata": {},
   "outputs": [],
   "source": [
    "# Subsample the data for more efficient code execution in this exercise\n",
    "num_training = 5000\n",
    "mask = range(num_training)\n",
    "X_train = X_train[mask]\n",
    "y_train = y_train[mask]\n",
    "\n",
    "num_test = 500\n",
    "mask = range(num_test)\n",
    "X_test = X_test[mask]\n",
    "y_test = y_test[mask]"
   ]
  },
  {
   "cell_type": "code",
   "execution_count": 8,
   "metadata": {},
   "outputs": [
    {
     "name": "stdout",
     "output_type": "stream",
     "text": [
      "(5000, 3072) (500, 3072)\n"
     ]
    }
   ],
   "source": [
    "#reshape the image data int rows\n",
    "X_train=np.reshape(X_train,(X_train.shape[0],-1))\n",
    "X_test=np.reshape(X_test,(X_test.shape[0],-1))\n",
    "\n",
    "print(X_train.shape,X_test.shape)\n"
   ]
  },
  {
   "cell_type": "code",
   "execution_count": 5,
   "metadata": {},
   "outputs": [],
   "source": [
    "class KNearestNeighbor(object):\n",
    "    def __init__(self):\n",
    "        pass\n",
    "    def train(self, X, y):\n",
    "        self.X_train = X\n",
    "        self.y_train = y\n",
    "    def predict(self, X, k=1, num_loops=0):\n",
    "        if num_loops == 0:\n",
    "            dists = self.compute_distance_no_loops(X)\n",
    "        elif num_loops == 1:\n",
    "            dists = self.compute_distance_one_loop(X)\n",
    "        elif num_loops == 2:\n",
    "            dists = self.compute_distance_two_loop(X)\n",
    "        else:\n",
    "            raise ValueError('Invalid input')\n",
    "        return self.predict_labels(dists, k=k)\n",
    "    def compute_distance_two_loop(self, X):\n",
    "        num_test = X.shape[0]\n",
    "        num_train = self.X_train.shape[0]\n",
    "        dists = np.zeros((num_test, num_train))\n",
    "        for i in range(num_test):\n",
    "            for j in range(num_train):\n",
    "                dists[i][j] = np.sum((X[i] - self.X_train[j]) ** 2)\n",
    "        return dists\n",
    "    def compute_distance_no_loops(self, X):\n",
    "        num_test = X.shape[0]\n",
    "        num_train = self.X_train.shape[0]\n",
    "        dists = np.zeros((num_test, num_train))\n",
    "        dists += np.sum(self.X_train ** 2, axis=1).reshape(1, num_train)\n",
    "        dists += np.sum(X ** 2, axis=1).reshape(num_test, 1)  # reshape for broadcasting\n",
    "        temp = 2 * np.dot(X, self.X_train.T)\n",
    "        dists -= temp\n",
    "        return dists\n",
    "\n",
    "    def compute_distance_one_loop(self, X):\n",
    "        num_test = X.shape[0]\n",
    "        num_train = self.X_train.shape[0]\n",
    "        dists = np.zeros((num_test, num_train))\n",
    "        for i in range(num_test):\n",
    "            dists[i] = np.sum((self.X_train - X[i]) ** 2, 1)\n",
    "        return dists\n",
    "    def predict_labels(self, dists, k):\n",
    "        num_test = dists.shape[0]\n",
    "        y_pred = np.zeros(num_test)\n",
    "        for i in range(num_test):\n",
    "            closest_y = []\n",
    "            closest_y = self.y_train[np.argsort(dists[i])[0:k]]\n",
    "            y_pred[i] = np.bincount(closest_y).argmax()\n",
    "        return y_pred\n",
    "\n",
    "\n",
    "classifier = KNearestNeighbor()\n",
    "classifier.train(X_train, y_train)\n"
   ]
  },
  {
   "cell_type": "code",
   "execution_count": 9,
   "metadata": {},
   "outputs": [
    {
     "name": "stdout",
     "output_type": "stream",
     "text": [
      "(500, 50000)\n"
     ]
    }
   ],
   "source": [
    "\n",
    "dist=classifier.compute_distance_no_loops(X_test)\n",
    "print(dist.shape)\n",
    "\n"
   ]
  },
  {
   "cell_type": "code",
   "execution_count": 10,
   "metadata": {},
   "outputs": [
    {
     "data": {
      "image/png": "[encoded data removed]",
      "text/plain": [
       "<matplotlib.figure.Figure at 0x22f815ec358>"
      ]
     },
     "metadata": {},
     "output_type": "display_data"
    }
   ],
   "source": [
    "plt.imshow(dist,interpolation='none')\n",
    "plt.show()"
   ]
  },
  {
   "cell_type": "code",
   "execution_count": 12,
   "metadata": {},
   "outputs": [
    {
     "name": "stdout",
     "output_type": "stream",
     "text": [
      "Got 164 / 500  correct => accuracy: 0.328000\n"
     ]
    }
   ],
   "source": [
    "y_test_pred=classifier.predict_labels(dist,k=1)\n",
    "num_correct=np.sum(y_test_pred==y_test)\n",
    "accuracy=float(num_correct)/num_test\n",
    "print('Got %d / %d  correct => accuracy: %f'%(num_correct,num_test,accuracy))\n",
    "\n"
   ]
  },
  {
   "cell_type": "code",
   "execution_count": 13,
   "metadata": {},
   "outputs": [
    {
     "name": "stdout",
     "output_type": "stream",
     "text": [
      "Difference was :  0.0\nGood! The distance matrices are the same\n"
     ]
    }
   ],
   "source": [
    "dists_one=classifier.compute_distance_no_loops(X_test)\n",
    "difference=np.linalg.norm(dist-dists_one,ord='fro')\n",
    "print('Difference was : ',difference)\n",
    "if difference < 0.001:\n",
    "    print(\"Good! The distance matrices are the same\")\n",
    "else:\n",
    "    print(\"Bad! The distance matrices are different\")\n",
    "    "
   ]
  },
  {
   "cell_type": "code",
   "execution_count": 16,
   "metadata": {},
   "outputs": [
    {
     "name": "stdout",
     "output_type": "stream",
     "text": [
      "two loop version took 416.654975 seconds\n"
     ]
    },
    {
     "name": "stdout",
     "output_type": "stream",
     "text": [
      "one loop version took 836.119833 seconds\n"
     ]
    },
    {
     "name": "stdout",
     "output_type": "stream",
     "text": [
      "no loop version took 4.454170 seconds\n"
     ]
    }
   ],
   "source": [
    "def time_function(f,*args):\n",
    "    import time\n",
    "    tic=time.time()\n",
    "    f(*args)\n",
    "    toc=time.time()\n",
    "    return toc-tic\n",
    "\n",
    "two_loop_time=time_function(classifier.compute_distance_two_loop,X_test)\n",
    "print('two loop version took %f seconds'%two_loop_time)\n",
    "one_loop_time=time_function(classifier.compute_distance_one_loop,X_test)\n",
    "print('one loop version took %f seconds'%one_loop_time)\n",
    "no_loop_time=time_function(classifier.compute_distance_no_loops,X_test)\n",
    "print('no loop version took %f seconds'%no_loop_time)\n",
    "\n"
   ]
  },
  {
   "cell_type": "code",
   "execution_count": 25,
   "metadata": {},
   "outputs": [
    {
     "name": "stdout",
     "output_type": "stream",
     "text": [
      "1\n"
     ]
    },
    {
     "name": "stdout",
     "output_type": "stream",
     "text": [
      "3\n"
     ]
    },
    {
     "name": "stdout",
     "output_type": "stream",
     "text": [
      "5\n"
     ]
    },
    {
     "name": "stdout",
     "output_type": "stream",
     "text": [
      "10\n"
     ]
    },
    {
     "name": "stdout",
     "output_type": "stream",
     "text": [
      "12\n"
     ]
    },
    {
     "name": "stdout",
     "output_type": "stream",
     "text": [
      "15\n"
     ]
    },
    {
     "name": "stdout",
     "output_type": "stream",
     "text": [
      "20\n"
     ]
    },
    {
     "name": "stdout",
     "output_type": "stream",
     "text": [
      "50\n"
     ]
    },
    {
     "name": "stdout",
     "output_type": "stream",
     "text": [
      "100\n"
     ]
    },
    {
     "name": "stdout",
     "output_type": "stream",
     "text": [
      "k = 1, accuracy = 0.263000\nk = 1, accuracy = 0.257000\nk = 1, accuracy = 0.264000\nk = 1, accuracy = 0.278000\nk = 1, accuracy = 0.266000\nk = 3, accuracy = 0.239000\nk = 3, accuracy = 0.249000\nk = 3, accuracy = 0.240000\nk = 3, accuracy = 0.266000\nk = 3, accuracy = 0.254000\nk = 5, accuracy = 0.248000\nk = 5, accuracy = 0.266000\nk = 5, accuracy = 0.280000\nk = 5, accuracy = 0.292000\nk = 5, accuracy = 0.280000\nk = 10, accuracy = 0.265000\nk = 10, accuracy = 0.296000\nk = 10, accuracy = 0.276000\nk = 10, accuracy = 0.284000\nk = 10, accuracy = 0.280000\nk = 12, accuracy = 0.260000\nk = 12, accuracy = 0.295000\nk = 12, accuracy = 0.279000\nk = 12, accuracy = 0.283000\nk = 12, accuracy = 0.280000\nk = 15, accuracy = 0.252000\nk = 15, accuracy = 0.289000\nk = 15, accuracy = 0.278000\nk = 15, accuracy = 0.282000\nk = 15, accuracy = 0.274000\nk = 20, accuracy = 0.270000\nk = 20, accuracy = 0.279000\nk = 20, accuracy = 0.279000\nk = 20, accuracy = 0.282000\nk = 20, accuracy = 0.285000\nk = 50, accuracy = 0.271000\nk = 50, accuracy = 0.288000\nk = 50, accuracy = 0.278000\nk = 50, accuracy = 0.269000\nk = 50, accuracy = 0.266000\nk = 100, accuracy = 0.256000\nk = 100, accuracy = 0.270000\nk = 100, accuracy = 0.263000\nk = 100, accuracy = 0.256000\nk = 100, accuracy = 0.263000\n"
     ]
    }
   ],
   "source": [
    "num_folds=5\n",
    "K_choices=[1,3,5,10,12,15,20,50,100]\n",
    "\n",
    "X_train_folds=[]\n",
    "y_train_folds=[]\n",
    "\n",
    "avg_size=int(X_train.shape[0]/num_folds)\n",
    "for i in range(num_folds):\n",
    "    X_train_folds.append(X_train[i*avg_size:(i+1)*avg_size])\n",
    "    y_train_folds.append(y_train[i*avg_size:(i+1)*avg_size])\n",
    "    \n",
    "k_to_accuracies={}\n",
    "\n",
    "for k in K_choices:\n",
    "    accuracies = []\n",
    "    print (k)\n",
    "    for i in range(num_folds):\n",
    "        X_train_cv = np.vstack(X_train_folds[0:i] + X_train_folds[i+1:])\n",
    "        y_train_cv = np.hstack(y_train_folds[0:i] + y_train_folds[i+1:])\n",
    "        X_valid_cv = X_train_folds[i]\n",
    "        y_valid_cv = y_train_folds[i]\n",
    "        classifier.train(X_train_cv, y_train_cv)\n",
    "        dists = classifier.compute_distance_no_loops(X_valid_cv)\n",
    "        accuracy = float(np.sum(classifier.predict_labels(dists, k) == y_valid_cv)) / y_valid_cv.shape[0]\n",
    "        accuracies.append(accuracy)\n",
    "        k_to_accuracies[k]=accuracies\n",
    "\n",
    "for k in sorted(k_to_accuracies):\n",
    "     for a in k_to_accuracies[k]:\n",
    "         print('k = %d, accuracy = %f'%(k,a))\n"
   ]
  },
  {
   "cell_type": "code",
   "execution_count": 26,
   "metadata": {},
   "outputs": [
    {
     "data": {
      "image/png": "[encoded data removed]",
      "text/plain": [
       "<matplotlib.figure.Figure at 0x22fd4df4f28>"
      ]
     },
     "metadata": {},
     "output_type": "display_data"
    }
   ],
   "source": [
    "for k in K_choices:\n",
    "    accuracies=k_to_accuracies[k]\n",
    "    plt.scatter([k]*len(accuracies),accuracies)\n",
    "\n",
    "accuracies_mean=np.array([np.mean(v) for k,v in sorted(k_to_accuracies.items())])\n",
    "accuracies_std=np.array([np.std(v) for k,v in sorted(k_to_accuracies.items())])\n",
    "plt.errorbar(K_choices,accuracies_mean,yerr=accuracies_std)\n",
    "plt.title('Cross-validation on k')\n",
    "plt.xlabel('k')\n",
    "plt.ylabel('Cross-validation accuracy')\n",
    "plt.show()\n",
    "    \n",
    "    \n",
    "    "
   ]
  },
  {
   "cell_type": "code",
   "execution_count": 27,
   "metadata": {},
   "outputs": [
    {
     "name": "stdout",
     "output_type": "stream",
     "text": [
      "Got 141 / 500 correct => accuracy: 0.282000\n"
     ]
    }
   ],
   "source": [
    "\n",
    "best_k=10\n",
    "classifier=KNearestNeighbor()\n",
    "classifier.train(X_train,y_train)\n",
    "y_test_pred=classifier.predict(X_test,k=best_k)\n",
    "\n",
    "num_correct=np.sum(y_test==y_test_pred)\n",
    "accuracy=float(num_correct)/num_test\n",
    "print('Got %d / %d correct => accuracy: %f'%(num_correct,num_test,accuracy))\n"
   ]
  },
  {
   "cell_type": "code",
   "execution_count": null,
   "metadata": {},
   "outputs": [],
   "source": []
  }
 ],
 "metadata": {
  "kernelspec": {
   "display_name": "Python 2",
   "language": "python",
   "name": "python2"
  },
  "language_info": {
   "codemirror_mode": {
    "name": "ipython",
    "version": 2
   },
   "file_extension": ".py",
   "mimetype": "text/x-python",
   "name": "python",
   "nbconvert_exporter": "python",
   "pygments_lexer": "ipython2",
   "version": "2.7.6"
  }
 },
 "nbformat": 4,
 "nbformat_minor": 0
}
